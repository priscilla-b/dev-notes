{
 "cells": [
  {
   "cell_type": "markdown",
   "metadata": {},
   "source": [
    "# Linked List\n",
    "\n",
    "With linked lists, items can be anywhere in memory since they don't need to be stored next to each other like in arrays.\n",
    "Each item stores the address of the next item in the list, linking the memory addresses together.\n",
    "\n",
    "Adding an item to a linked list is faster compared to arrays since the new items can be stored anywhere, so memory does not have to be reallocated when list size increases. For example, if you add an item to the middle of a linked list, you just have to change the address the previous item points to. Same logic works for deletes.\n",
    "\n",
    "The disadvantage with linked list is that it's slower to access a single item, since you don't know it's exact position in the list. You have to go through each item in the linked list to get the one you're looking for (sequential access).\n",
    "\n",
    "Linked lists have a constant insertion time (O(1)) but a linear reading time (O(n))\n",
    "\n",
    "A work around the slowness of random access of linked lists and the slowness of insertion of arrays is to have a combined data structure (an array of linked lists). Each element in an array will contain a linked list, making it easier to search within linked lists, and faster to insert in arrays."
   ]
  },
  {
   "cell_type": "markdown",
   "metadata": {},
   "source": [
    "## Implementation with Python\n",
    "\n",
    "A linked list consits of nodes, and each node has two elements: the data and the pointer to the next node.\n",
    "![linked-list](linked_list.png)\n",
    "[source](https://www.geeksforgeeks.org/python-linked-list/)"
   ]
  },
  {
   "cell_type": "code",
   "execution_count": 8,
   "metadata": {},
   "outputs": [],
   "source": [
    "# creating a node\n",
    "class Node:\n",
    "    def __init__(self, data):\n",
    "        self.data = data\n",
    "        self.next = None\n"
   ]
  },
  {
   "cell_type": "code",
   "execution_count": 9,
   "metadata": {},
   "outputs": [],
   "source": [
    "class LinkedList:\n",
    "    def __init__(self):\n",
    "        self.head = None  # initialize an empty linked list by setting the head as none\n",
    "\n",
    "    # insertion at beginning of node\n",
    "    def insert_at_start(self, data):\n",
    "        new_node = Node(data)  # create a new node with the given data\n",
    "        if self.head is None:\n",
    "            self.head = new_node\n",
    "            return\n",
    "        else:\n",
    "            new_node.next = self.head\n",
    "            self.head = new_node"
   ]
  },
  {
   "cell_type": "code",
   "execution_count": 10,
   "metadata": {},
   "outputs": [
    {
     "name": "stdout",
     "output_type": "stream",
     "text": [
      "<__main__.LinkedList object at 0x000001DCD1660350>\n"
     ]
    }
   ],
   "source": [
    "linked_list = LinkedList()\n",
    "linked_list.insert_at_start(20)\n",
    "print(linked_list)\n"
   ]
  }
 ],
 "metadata": {
  "kernelspec": {
   "display_name": "Python 3",
   "language": "python",
   "name": "python3"
  },
  "language_info": {
   "codemirror_mode": {
    "name": "ipython",
    "version": 3
   },
   "file_extension": ".py",
   "mimetype": "text/x-python",
   "name": "python",
   "nbconvert_exporter": "python",
   "pygments_lexer": "ipython3",
   "version": "3.12.1"
  }
 },
 "nbformat": 4,
 "nbformat_minor": 2
}
